{
 "cells": [
  {
   "cell_type": "code",
   "execution_count": 54,
   "metadata": {},
   "outputs": [
    {
     "name": "stdout",
     "output_type": "stream",
     "text": [
      "['Henrik', 'Hans']\n"
     ]
    }
   ],
   "source": [
    "#1.a\n",
    "my_list=['Henrik','Mark','Hans','Peter']\n",
    "listcheck = [idx for idx in my_list if idx[0] == 'H']\n",
    "\n",
    "print(str(listcheck))"
   ]
  },
  {
   "cell_type": "code",
   "execution_count": 21,
   "metadata": {},
   "outputs": [
    {
     "name": "stdout",
     "output_type": "stream",
     "text": [
      "[1, 8, 27, 64, 125, 216, 343, 512, 729, 1000, 1331, 1728, 2197, 2744, 3375, 4096, 4913, 5832, 6859, 8000, 9261, 10648, 12167, 13824, 15625, 17576, 19683, 21952, 24389, 27000, 29791, 32768, 35937, 39304, 42875, 46656, 50653, 54872, 59319, 64000, 68921, 74088, 79507, 85184, 91125, 97336, 103823, 110592, 117649, 125000, 132651, 140608, 148877, 157464, 166375, 175616, 185193, 195112, 205379, 216000, 226981, 238328, 250047, 262144, 274625, 287496, 300763, 314432, 328509, 343000, 357911, 373248, 389017, 405224, 421875, 438976, 456533, 474552, 493039, 512000, 531441, 551368, 571787, 592704, 614125, 636056, 658503, 681472, 704969, 729000, 753571, 778688, 804357, 830584, 857375, 884736, 912673, 941192, 970299]\n"
     ]
    }
   ],
   "source": [
    "#1.b\n",
    "new_list = [value ** 3 for value in range(1,100)]\n",
    "print(new_list)"
   ]
  },
  {
   "cell_type": "code",
   "execution_count": 98,
   "metadata": {},
   "outputs": [
    {
     "name": "stdout",
     "output_type": "stream",
     "text": [
      "[(6, 'Henrik'), (4, 'Mark'), (4, 'Hans'), (5, 'Peter')]\n"
     ]
    }
   ],
   "source": [
    "#1.c\n",
    "my_list=['Henrik','Mark','Hans','Peter']\n",
    "mynew_list = [len(name) for name in my_list]\n",
    "\n",
    "my_tuple = list(zip(mynew_list,my_list))\n",
    "print(my_tuple)"
   ]
  },
  {
   "cell_type": "code",
   "execution_count": 112,
   "metadata": {},
   "outputs": [
    {
     "name": "stdout",
     "output_type": "stream",
     "text": [
      "['1', '2', '3', '2', '2']\n"
     ]
    }
   ],
   "source": [
    "#1.d\n",
    "listeMedTal  = \"hej123skrivetellerandether22\"\n",
    "nyListe =[numeric for numeric in listeMedTal if numeric.isdigit()]\n",
    "print(nyListe)"
   ]
  },
  {
   "cell_type": "code",
   "execution_count": 53,
   "metadata": {},
   "outputs": [
    {
     "name": "stdout",
     "output_type": "stream",
     "text": [
      "{(1, 3), (6, 6), (5, 6), (2, 1), (6, 2), (1, 6), (5, 1), (2, 5), (1, 2), (3, 3), (5, 5), (4, 4), (6, 3), (1, 5), (3, 6), (2, 2), (4, 1), (1, 1), (6, 4), (3, 2), (2, 6), (5, 4), (4, 5), (5, 2), (1, 4), (2, 3), (4, 2), (6, 5), (3, 5), (5, 3), (4, 6), (6, 1), (3, 1), (4, 3), (3, 4), (2, 4)}\n"
     ]
    }
   ],
   "source": [
    "#1.e\n",
    "firstDice = [1,2,3,4,5,6]\n",
    "secondDice = [1,2,3,4,5,6]\n",
    "twoDices = set([(f,s) for f in firstDice for s in secondDice])\n",
    "\n",
    "print(twoDices)"
   ]
  },
  {
   "cell_type": "code",
   "execution_count": 114,
   "metadata": {},
   "outputs": [
    {
     "name": "stdout",
     "output_type": "stream",
     "text": [
      "{'Henrik': 6, 'Mark': 4, 'Jan': 3, 'Peter': 5}\n"
     ]
    }
   ],
   "source": [
    "#2.a\n",
    "my_list=['Henrik','Mark','Jan','Peter']\n",
    "my_dictionary = {name:len(name) for name in my_list}\n",
    "print(my_dictionary)\n",
    "\n"
   ]
  },
  {
   "cell_type": "code",
   "execution_count": 116,
   "metadata": {},
   "outputs": [
    {
     "name": "stdout",
     "output_type": "stream",
     "text": [
      "{2: 1.4142135623730951, 4: 2.0, 6: 2.449489742783178, 8: 2.8284271247461903, 10: 3.1622776601683795, 12: 3.4641016151377544, 14: 3.7416573867739413, 16: 4.0, 18: 4.242640687119285, 20: 4.47213595499958}\n"
     ]
    }
   ],
   "source": [
    "#2.b\n",
    "import math\n",
    "listofnumbers = [2,4,6,8,10,12,14,16,18,20]\n",
    "\n",
    "my_dictionarynumbers = {number:math.sqrt(number) for number in listofnumbers}\n",
    "print(my_dictionarynumbers)"
   ]
  }
 ],
 "metadata": {
  "kernelspec": {
   "display_name": "Python 3",
   "language": "python",
   "name": "python3"
  },
  "language_info": {
   "codemirror_mode": {
    "name": "ipython",
    "version": 3
   },
   "file_extension": ".py",
   "mimetype": "text/x-python",
   "name": "python",
   "nbconvert_exporter": "python",
   "pygments_lexer": "ipython3",
   "version": "3.7.6"
  }
 },
 "nbformat": 4,
 "nbformat_minor": 4
}
