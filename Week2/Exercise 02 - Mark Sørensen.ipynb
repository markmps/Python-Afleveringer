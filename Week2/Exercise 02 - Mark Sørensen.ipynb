{
 "cells": [
  {
   "cell_type": "code",
   "execution_count": 2,
   "metadata": {},
   "outputs": [
    {
     "name": "stdout",
     "output_type": "stream",
     "text": [
      "['Hello, to, you']\n"
     ]
    }
   ],
   "source": [
    "#A. def print_file_content(file) that can print content of a csv file to the console\n",
    "def print_file_content(file):\n",
    "    with open(file,'r') as file_object:\n",
    "        lines = file_object.readlines()\n",
    "        print(lines)\n",
    "\n",
    "\n",
    "print_file_content('ReadFile.txt')"
   ]
  },
  {
   "cell_type": "code",
   "execution_count": 4,
   "metadata": {},
   "outputs": [],
   "source": [
    "tup = (\"Hello\", \"please\", \"don't\", \"delete\", \"me\")\n",
    "\n",
    "def write_list_to_file(output_file, lst): \n",
    "    with open(output_file, 'w') as file_object:\n",
    "        for s in lst:\n",
    "            file_object.write(\"%s\\n\" % s)\n",
    "\n",
    "\n",
    "write_list_to_file(\"Test.txt\", tup)\n",
    "\n",
    "\n"
   ]
  },
  {
   "cell_type": "code",
   "execution_count": 6,
   "metadata": {},
   "outputs": [],
   "source": [
    "#def write_list_to_file(output_file, lst) that can take a list of tuple and write each element to a new line in file\n",
    "#rewrite the function so that it gets an arbitrary number of strings instead of a list\n",
    "#Dette er måde 1\n",
    "def write_list_to_file(output_file, *letsgo): \n",
    "    with open(output_file, 'w') as file_object:\n",
    "        for s in letsgo:\n",
    "            file_object.write(\"%s\\n\" % s)\n",
    "\n",
    "\n",
    "write_list_to_file(\"Test.txt\", \"Hello\", \"yes1\", \"lets2\", \"go3\", \"inferno4\")"
   ]
  },
  {
   "cell_type": "code",
   "execution_count": 8,
   "metadata": {},
   "outputs": [
    {
     "name": "stdout",
     "output_type": "stream",
     "text": [
      "['Hello\\n', 'yes1\\n', 'lets2\\n', 'go3\\n', 'inferno4\\n']\n",
      "Hello\n",
      "yes1\n",
      "lets2\n",
      "go3\n",
      "inferno4\n"
     ]
    }
   ],
   "source": [
    "#def read_csv(input_file) that take a csv file and read each row into a list\n",
    "def read_csv(input_file):\n",
    "    with open(input_file) as file_object:\n",
    "        lines = file_object.readlines()\n",
    "        print(lines)\n",
    "        for line in lines:\n",
    "            print(line.rstrip())\n",
    "            \n",
    "read_csv(\"Test.txt\")\n",
    "        "
   ]
  },
  {
   "cell_type": "code",
   "execution_count": 9,
   "metadata": {},
   "outputs": [
    {
     "name": "stdout",
     "output_type": "stream",
     "text": [
      "['sometext\\n', 'moretext']\n",
      "sometext\n",
      "moretext\n"
     ]
    }
   ],
   "source": [
    "def read_csv(input_file):\n",
    "    with open(input_file) as file_object:\n",
    "        lines = file_object.readlines()\n",
    "        print(lines)\n",
    "        for line in lines:\n",
    "            print(line.rstrip())\n",
    "\n",
    "mypather = 'test_files/test1.txt'\n",
    "read_csv(mypather)"
   ]
  },
  {
   "cell_type": "code",
   "execution_count": null,
   "metadata": {},
   "outputs": [],
   "source": [
    "#Er lidt i tvivl om hvorledes exercise 2 delen skal afleveres, skal/skulle den ligge her?\n",
    "import sys\n",
    "import argparse\n",
    "import os\n",
    "\n",
    "\n",
    "def get_file_names(folderpath, out='output.txt'):\n",
    "    \"\"\" takes a path to a folder and writes all filenames in the folder to a specified output file\"\"\"\n",
    "    with open(out, 'w') as file_object:\n",
    "        for files in os.listdir(\".\"):\n",
    "            print(files)\n",
    "            file_object.write(\"%s\\n\" % files)\n",
    "\n",
    "\n",
    "def get_all_file_names(folderpath, out='output.txt'):\n",
    "    \"\"\"takes a path to a folder and write all filenames recursively (files of all sub folders to)\"\"\"\n",
    "    # this is not done recursively\n",
    "    with open(out, 'w') as file_object:\n",
    "        for root, subdirs, files in os.walk(\".\"):\n",
    "            for filename in files:\n",
    "                print(filename)\n",
    "                file_object.write(\"%s\\n\" % filename)\n",
    "\n",
    "\n",
    "def print_line_one(file_names):\n",
    "    \"\"\"takes a list of filenames and print the first line of each\"\"\"\n",
    "    for fNames in file_names:\n",
    "        with open(fNames, 'r') as file_object:\n",
    "            line = file_object.readline()\n",
    "            print(line.rstrip())\n",
    "\n",
    "\n",
    "def print_emails(file_names):\n",
    "    \"\"\"takes a list of filenames and print each line that contains an email (just look for @)\"\"\"\n",
    "    for fNames in file_names:\n",
    "        with open(fNames, 'r') as file_object:\n",
    "            lines = file_object.readlines()\n",
    "            for line in lines:\n",
    "                if '@' in line:\n",
    "                    print(line)\n",
    "\n",
    "\n",
    "def write_headlines(md_files, out='headLinesFromMD.md'):\n",
    "    \"\"\"takes a list of md files and writes all headlines (lines starting with #) to a file\"\"\"\n",
    "    for fNames in md_files:\n",
    "        if '.md' in fNames:\n",
    "            print(fNames)\n",
    "            with open(fNames, 'r') as file_object1:\n",
    "                lines = file_object1.readlines()\n",
    "                with open(out, 'w') as file_object2:\n",
    "                    for line in lines:\n",
    "                        if line.startswith('#'):\n",
    "                            file_object2.write(\"%s\\n\" % line)"
   ]
  }
 ],
 "metadata": {
  "kernelspec": {
   "display_name": "Python 3",
   "language": "python",
   "name": "python3"
  },
  "language_info": {
   "codemirror_mode": {
    "name": "ipython",
    "version": 3
   },
   "file_extension": ".py",
   "mimetype": "text/x-python",
   "name": "python",
   "nbconvert_exporter": "python",
   "pygments_lexer": "ipython3",
   "version": "3.7.6"
  }
 },
 "nbformat": 4,
 "nbformat_minor": 4
}
